{
 "cells": [
  {
   "cell_type": "code",
   "execution_count": 11,
   "metadata": {},
   "outputs": [
    {
     "name": "stdout",
     "output_type": "stream",
     "text": [
      "Dr. Martin Luther King, Jr. spoke at the 1963 March on Washington. King: \" 1963 is not an end but a beginning. There will be neither rest nor tranquility in America until the Negro has granted his citizenship rights\" \"We cannot walk alone. As we walk, we must make the plans we shall always turn back,\" he said. \"We can never be satisfied as long as the Negro is the big faith in all the horrors of police brutality\"\" 1963 will go down in history as the greatest demonstration for freedom in the history of our nation,\" King said. I say to you today, my friends, so even though we face the difficulties of today and tomorrow, I still have a dream. It is a dream deeply rooted in the American dream. One day this nation will rise up and live out the true meaning of its creed. We hold these truths to be self-evident that all men are created equal. With this faith we will be able to transform the jangling discords of our nation into a beautiful symphony of brotherhood. \n"
     ]
    }
   ],
   "source": [
    "result = \"\"\"[[{'summary_text': 'Dr. Martin Luther King, Jr. spoke at the 1963 March on Washington. King: \" 1963 is not an end but a beginning. There will be neither rest nor tranquility in America until the Negro has granted his citizenship rights\" \"We cannot walk alone. As we walk, we must make the plans we shall always turn back,\" he said. \"We can never be satisfied as long as the Negro is the big faith in all the horrors of police brutality\"\" 1963 will go down in history as the greatest demonstration for freedom in the history of our nation,\" King said.'}], [{'summary_text': 'I say to you today, my friends, so even though we face the difficulties of today and tomorrow, I still have a dream. It is a dream deeply rooted in the American dream. One day this nation will rise up and live out the true meaning of its creed. We hold these truths to be self-evident that all men are created equal. With this faith we will be able to transform the jangling discords of our nation into a beautiful symphony of brotherhood.'}]] \"\"\"\n",
    "result = result.replace(\"[[{'summary_text': '\", '').replace(\"'}], [{'summary_text': '\", ' ').replace(\"'}]]\", '')\n",
    "\n",
    "print(result)"
   ]
  },
  {
   "cell_type": "code",
   "execution_count": 6,
   "metadata": {},
   "outputs": [
    {
     "name": "stderr",
     "output_type": "stream",
     "text": [
      "Your max_length is set to 1024, but you input_length is only 399. You might consider decreasing max_length manually, e.g. summarizer('...', max_length=199)\n",
      "/Users/rikjansen/miniconda3/lib/python3.10/site-packages/transformers/generation/utils.py:1186: UserWarning: You have modified the pretrained model configuration to control generation. This is a deprecated strategy to control generation and will be removed soon, in a future version. Please use a generation configuration file (see https://huggingface.co/docs/transformers/main_classes/text_generation)\n",
      "  warnings.warn(\n"
     ]
    },
    {
     "data": {
      "text/plain": [
       "'De vader van Tanja Groen, die 27 jaar geleden verdween, heeft een beloning van 1 miljoen pond uitgereikt om haar te helpen met haar verdwijning, zegt dat het de hoogste beloning die ooit is uitgeloofd in Nederland.'"
      ]
     },
     "execution_count": 6,
     "metadata": {},
     "output_type": "execute_result"
    }
   ],
   "source": [
    "import transformers\n",
    "\n",
    "undisputed_best_model = transformers.MBartForConditionalGeneration.from_pretrained(\n",
    "    \"ml6team/mbart-large-cc25-cnn-dailymail-xsum-nl\"\n",
    ")\n",
    "tokenizer = transformers.MBartTokenizer.from_pretrained(\"facebook/mbart-large-cc25\")\n",
    "summarization_pipeline = transformers.pipeline(\n",
    "    task=\"summarization\",\n",
    "    model=undisputed_best_model,\n",
    "    tokenizer=tokenizer,\n",
    ")\n",
    "summarization_pipeline.model.config.decoder_start_token_id = tokenizer.lang_code_to_id[\n",
    "    \"nl_XX\"\n",
    "]\n",
    "\n",
    "article = \"\"\"\n",
    "Volgens De Vries gaat het om \"de hoogste beloning die ooit is uitgeloofd in Nederland\". De stichting heeft een website waar donateurs geld kunnen storten, schrijft NH Nieuws. Volgens De Vries is dit initiatief ook bedoeld voor andere zaken waar beloningen voor een gouden tip worden uitgereikt. \"Het is dus niet eenmalig\", aldus De Vries. Het is de eerste keer dat zoiets wordt opgezet, stelt hij: De 18-jarige Tanja Groen verdween spoorloos tijdens de ontgroeningsweek van de Universiteit Maastricht in augustus 1993. Ze werd voor het laatst gezien nadat ze was vertrokken van een feestje. De studente zou vandaag 46 jaar zijn geworden. Ook de ouders van Groen waren op de persconferentie aanwezig. \"Het is vandaag de verjaardag van Tanja Groen, die haar ouders al 27 jaar niet meer hebben kunnen vieren, omdat zij eind augustus 1993 spoorloos is verdwenen\", zei De Vries. \"Haar ouders zitten in tergende onzekerheid. Ze geloven dat ze niet meer leeft. Maar die ene promille vreet aan ze. Ze hebben recht op duidelijkheid. Ze komen op leeftijd. Grootste angst is nooit te weten wat er met hun kind is gebeurd.\" De Vries wil dat het miljoen binnen een jaar is ingezameld. Als het bedrag na een jaar lager uitkomt, dan is dat de uit te loven beloning. Is het meer, dan zal de rest van het geld gebruikt worden in beloningen in andere zaken. Het initiatief wordt gesteund door de politie en justitie. De afgelopen jaren is er vaker uitgebreid naar sporen van Tanja Groen gezocht, maar die zoekacties hebben niets concreets opgeleverd. Vorige week werd opnieuw naar de vrouw gezocht, op de Strabrechtse Heide in Noord-Brabant. Ook die zoektocht leverde niets op.\n",
    "\"\"\"  # Dutch\n",
    "summarization_pipeline(\n",
    "    article,\n",
    "    do_sample=True,\n",
    "    top_p=0.75,\n",
    "    top_k=50,\n",
    "    min_length=50,\n",
    "    early_stopping=True,\n",
    "    truncation=True,\n",
    ")[0][\"summary_text\"]"
   ]
  },
  {
   "cell_type": "code",
   "execution_count": 1,
   "metadata": {},
   "outputs": [
    {
     "data": {
      "application/vnd.jupyter.widget-view+json": {
       "model_id": "ff8772be579d41fbba22c89e522e7fef",
       "version_major": 2,
       "version_minor": 0
      },
      "text/plain": [
       "Downloading (…)ve/main/spiece.model:   0%|          | 0.00/792k [00:00<?, ?B/s]"
      ]
     },
     "metadata": {},
     "output_type": "display_data"
    },
    {
     "data": {
      "application/vnd.jupyter.widget-view+json": {
       "model_id": "e1e1fbba2d14454c9eb0a8d53f56f3c7",
       "version_major": 2,
       "version_minor": 0
      },
      "text/plain": [
       "Downloading (…)lve/main/config.json:   0%|          | 0.00/1.21k [00:00<?, ?B/s]"
      ]
     },
     "metadata": {},
     "output_type": "display_data"
    },
    {
     "name": "stderr",
     "output_type": "stream",
     "text": [
      "/Users/rikjansen/miniconda3/lib/python3.10/site-packages/transformers/models/t5/tokenization_t5.py:163: FutureWarning: This tokenizer was incorrectly instantiated with a model max length of 512 which will be corrected in Transformers v5.\n",
      "For now, this behavior is kept to avoid breaking backwards compatibility when padding/encoding with `truncation is True`.\n",
      "- Be aware that you SHOULD NOT rely on t5-small automatically truncating your input to 512 when padding/encoding.\n",
      "- If you want to encode/pad to sequences longer than 512 you can either instantiate this tokenizer with `model_max_length` or pass `max_length` when encoding/padding.\n",
      "- To avoid this warning, please instantiate this tokenizer with `model_max_length` set to your preferred value.\n",
      "  warnings.warn(\n"
     ]
    },
    {
     "data": {
      "application/vnd.jupyter.widget-view+json": {
       "model_id": "9d12148b105f4771b3b75434850d5d40",
       "version_major": 2,
       "version_minor": 0
      },
      "text/plain": [
       "Downloading (…)\"pytorch_model.bin\";:   0%|          | 0.00/242M [00:00<?, ?B/s]"
      ]
     },
     "metadata": {},
     "output_type": "display_data"
    },
    {
     "data": {
      "application/vnd.jupyter.widget-view+json": {
       "model_id": "892e86498ca64637ba5b4e7d0070b1e1",
       "version_major": 2,
       "version_minor": 0
      },
      "text/plain": [
       "Downloading (…)neration_config.json:   0%|          | 0.00/147 [00:00<?, ?B/s]"
      ]
     },
     "metadata": {},
     "output_type": "display_data"
    },
    {
     "name": "stdout",
     "output_type": "stream",
     "text": [
      "Das Haus ist wunderbar.\n"
     ]
    },
    {
     "name": "stderr",
     "output_type": "stream",
     "text": [
      "/Users/rikjansen/miniconda3/lib/python3.10/site-packages/transformers/generation/utils.py:1273: UserWarning: Neither `max_length` nor `max_new_tokens` has been set, `max_length` will default to 20 (`generation_config.max_length`). Controlling `max_length` via the config is deprecated and `max_length` will be removed from the config in v5 of Transformers -- we recommend using `max_new_tokens` to control the maximum length of the generation.\n",
      "  warnings.warn(\n"
     ]
    }
   ],
   "source": [
    "from transformers import T5Tokenizer, T5ForConditionalGeneration\n",
    "\n",
    "tokenizer = T5Tokenizer.from_pretrained(\"t5-small\")\n",
    "\n",
    "model = T5ForConditionalGeneration.from_pretrained(\"t5-small\")\n",
    "\n",
    "input_ids = tokenizer(\"translate English to German: The house is wonderful.\", return_tensors=\"pt\").input_ids\n",
    "\n",
    "outputs = model.generate(input_ids)\n",
    "\n",
    "print(tokenizer.decode(outputs[0], skip_special_tokens=True))"
   ]
  },
  {
   "cell_type": "code",
   "execution_count": 1,
   "metadata": {},
   "outputs": [],
   "source": [
    "%load_ext gradio"
   ]
  },
  {
   "cell_type": "code",
   "execution_count": 3,
   "metadata": {},
   "outputs": [
    {
     "name": "stdout",
     "output_type": "stream",
     "text": [
      "Running on local URL:  http://127.0.0.1:7860\n"
     ]
    },
    {
     "data": {
      "text/html": [
       "<div><iframe src=\"http://127.0.0.1:7860/\" width=\"100%\" height=\"500\" allow=\"autoplay; camera; microphone; clipboard-read; clipboard-write;\" frameborder=\"0\" allowfullscreen></iframe></div>"
      ],
      "text/plain": [
       "<IPython.core.display.HTML object>"
      ]
     },
     "metadata": {},
     "output_type": "display_data"
    },
    {
     "name": "stderr",
     "output_type": "stream",
     "text": [
      "Traceback (most recent call last):\n",
      "  File \"/Users/rikjansen/miniconda3/lib/python3.10/site-packages/gradio/routes.py\", line 384, in run_predict\n",
      "    output = await app.get_blocks().process_api(\n",
      "  File \"/Users/rikjansen/miniconda3/lib/python3.10/site-packages/gradio/blocks.py\", line 1032, in process_api\n",
      "    result = await self.call_function(\n",
      "  File \"/Users/rikjansen/miniconda3/lib/python3.10/site-packages/gradio/blocks.py\", line 844, in call_function\n",
      "    prediction = await anyio.to_thread.run_sync(\n",
      "  File \"/Users/rikjansen/miniconda3/lib/python3.10/site-packages/anyio/to_thread.py\", line 31, in run_sync\n",
      "    return await get_asynclib().run_sync_in_worker_thread(\n",
      "  File \"/Users/rikjansen/miniconda3/lib/python3.10/site-packages/anyio/_backends/_asyncio.py\", line 937, in run_sync_in_worker_thread\n",
      "    return await future\n",
      "  File \"/Users/rikjansen/miniconda3/lib/python3.10/site-packages/anyio/_backends/_asyncio.py\", line 867, in run\n",
      "    result = context.run(func, *args)\n",
      "  File \"<string>\", line 3, in summarize\n",
      "NameError: name 'Tokenizer' is not defined\n"
     ]
    }
   ],
   "source": [
    "%%blocks\n",
    "\n",
    "import gradio as gr\n",
    "\n",
    "import whisper\n",
    "from transformers import pipeline\n",
    "from nltk import tokenize\n",
    "from tokenizers import Tokenizer\n",
    "\n",
    "def summarize(x):\n",
    "    tokenizer = Tokenizer.from_pretrained(\"facebook/bart-large-cnn\")\n",
    "\n",
    "    model = whisper.load_model(\"small\")\n",
    "    result = model.transcribe(x, task=\"translate\")\n",
    "\n",
    "    #split text into sentences\n",
    "    text = tokenize.sent_tokenize(result[\"text\"])\n",
    "\n",
    "    coll = []\n",
    "    chunk = \"\"\n",
    "    wordCount = 0\n",
    "    #the maximum number of tokens the summarization model will accept at once\n",
    "    n = 1024\n",
    "\n",
    "    #create chunks of sentences to be summarized, each chunk not exceeding n tokens\n",
    "    #needs an exception in case a single sentence exceeds n (however unlikely)\n",
    "    for sent in text:\n",
    "        wordCount += len(tokenizer.encode(sent))\n",
    "        if wordCount <= n:\n",
    "            chunk += sent\n",
    "        else:\n",
    "            coll.append(chunk)\n",
    "            chunk = sent\n",
    "            wordCount = 0\n",
    "    coll.append(chunk)\n",
    "\n",
    "    summarizer = pipeline(\"summarization\", model=\"facebook/bart-large-cnn\")\n",
    "    summary = []\n",
    "\n",
    "    #summarize each chunk individually and add them together\n",
    "    for val in coll:\n",
    "        numTokens = len(tokenizer.encode(val))\n",
    "        maxLength = min(500, numTokens)\n",
    "        minLength = min(100, numTokens)\n",
    "        summary.append(summarizer(val, max_length=maxLength, min_length=minLength, do_sample=False))\n",
    "\n",
    "\n",
    "inp = gr.Audio(type='filepath')\n",
    "button = gr.Button('Summarize')\n",
    "out = gr.TextArea(label='Summary')\n",
    "\n",
    "button.click(summarize, inputs = inp, outputs= out)"
   ]
  },
  {
   "cell_type": "code",
   "execution_count": 19,
   "metadata": {},
   "outputs": [
    {
     "name": "stderr",
     "output_type": "stream",
     "text": [
      "/Users/rikjansen/miniconda3/lib/python3.10/site-packages/whisper/transcribe.py:79: UserWarning: FP16 is not supported on CPU; using FP32 instead\n",
      "  warnings.warn(\"FP16 is not supported on CPU; using FP32 instead\")\n"
     ]
    },
    {
     "name": "stdout",
     "output_type": "stream",
     "text": [
      " Four score and seven years ago, our fathers brought forth on this continent a new nation, conceived in liberty, and dedicated to the proposition that all men are created equal.\n"
     ]
    }
   ],
   "source": [
    "import whisper\n",
    "\n",
    "model = whisper.load_model(\"base\")\n",
    "result = model.transcribe(\"/users/rikjansen/downloads/gettysburg10.wav\")\n",
    "\n",
    "print(result[\"text\"])"
   ]
  },
  {
   "cell_type": "code",
   "execution_count": 17,
   "metadata": {},
   "outputs": [
    {
     "name": "stderr",
     "output_type": "stream",
     "text": [
      "Your max_length is set to 500, but you input_length is only 489. You might consider decreasing max_length manually, e.g. summarizer('...', max_length=244)\n"
     ]
    },
    {
     "name": "stdout",
     "output_type": "stream",
     "text": [
      "[{'summary_text': 'Liana Barrientos, 39, is charged with two counts of \"offering a false instrument for filing in the first degree\" In total, she has been married 10 times, with nine of her marriages occurring between 1999 and 2002. She is believed to still be married to four men, and at one time, she was married to eight men at once. Her eighth husband, Rashid Rajput, was deported in 2006 to his native Pakistan after an investigation by the Joint Terrorism Task Force. If convicted, she faces up to four years in prison. The case was referred to the Bronx District Attorney\\'s Office by Immigration and Customs Enforcement and the Department of Homeland Security\\'sInvestigation Division. It was unclear whether any of the men will be prosecuted. The next court appearance is scheduled for May 18, according to her attorney, Christopher Wright, who declined to comment further on the case. It is not clear if any of her husbands have been charged with any crime in connection with the marriages, or if any divorces have taken place since they were approved for permanent residence status by the government. The marriages occurred either in Westchester County, Long Island, New Jersey or the Bronx, prosecutors say. In an application for a marriage license, she stated it was her \"first and only\" marriage. The marriage license application says she married five times in two weeks, sometimes within two weeks of each other. The first marriage was only 18 days after that marriage, she got hitched yet again, court documents say. She was arrested and charged with theft of service and criminal trespass for allegedly sneaking into the New York subway through an emergency exit, a police spokeswoman says. It\\'s not known if she will be charged with a crime in relation to the marriages. The cases are being investigated by the FBI and the Homeland Security Department\\'s Homeland Security Investigation Division, which is investigating the case as part of its \"red-flagged\" program. For confidential support, call the National Suicide Prevention Lifeline at 1-800-273-8255 or visit\\xa0http://www.suicidepreventionlifeline.org/. For support in the U.S., call the Samaritans on 08457 90 90 90, visit a local Samaritans branch or\\xa0click here for details. For help in the United States, go to www.samaritans.org, or click here for information on how to contact the National suicide Prevention Helpline. For information on suicide prevention in the UK'}]\n"
     ]
    }
   ],
   "source": [
    "from transformers import pipeline\n",
    "\n",
    "summarizer = pipeline(\"summarization\", model=\"facebook/bart-large-cnn\")\n",
    "\n",
    "ARTICLE = \"\"\" New York (CNN)When Liana Barrientos was 23 years old, she got married in Westchester County, New York.\n",
    "A year later, she got married again in Westchester County, but to a different man and without divorcing her first husband.\n",
    "Only 18 days after that marriage, she got hitched yet again. Then, Barrientos declared \"I do\" five more times, sometimes only within two weeks of each other.\n",
    "In 2010, she married once more, this time in the Bronx. In an application for a marriage license, she stated it was her \"first and only\" marriage.\n",
    "Barrientos, now 39, is facing two criminal counts of \"offering a false instrument for filing in the first degree,\" referring to her false statements on the\n",
    "2010 marriage license application, according to court documents.\n",
    "Prosecutors said the marriages were part of an immigration scam.\n",
    "On Friday, she pleaded not guilty at State Supreme Court in the Bronx, according to her attorney, Christopher Wright, who declined to comment further.\n",
    "After leaving court, Barrientos was arrested and charged with theft of service and criminal trespass for allegedly sneaking into the New York subway through an emergency exit, said Detective\n",
    "Annette Markowski, a police spokeswoman. In total, Barrientos has been married 10 times, with nine of her marriages occurring between 1999 and 2002.\n",
    "All occurred either in Westchester County, Long Island, New Jersey or the Bronx. She is believed to still be married to four men, and at one time, she was married to eight men at once, prosecutors say.\n",
    "Prosecutors said the immigration scam involved some of her husbands, who filed for permanent residence status shortly after the marriages.\n",
    "Any divorces happened only after such filings were approved. It was unclear whether any of the men will be prosecuted.\n",
    "The case was referred to the Bronx District Attorney\\'s Office by Immigration and Customs Enforcement and the Department of Homeland Security\\'s\n",
    "Investigation Division. Seven of the men are from so-called \"red-flagged\" countries, including Egypt, Turkey, Georgia, Pakistan and Mali.\n",
    "Her eighth husband, Rashid Rajput, was deported in 2006 to his native Pakistan after an investigation by the Joint Terrorism Task Force.\n",
    "If convicted, Barrientos faces up to four years in prison.  Her next court appearance is scheduled for May 18.\n",
    "\"\"\"\n",
    "test = (summarizer(ARTICLE, max_length=500, min_length=500, do_sample=False))\n",
    "print(test)\n"
   ]
  },
  {
   "cell_type": "code",
   "execution_count": 19,
   "metadata": {},
   "outputs": [
    {
     "name": "stderr",
     "output_type": "stream",
     "text": [
      "/Users/rikjansen/miniconda3/lib/python3.10/site-packages/whisper/transcribe.py:79: UserWarning: FP16 is not supported on CPU; using FP32 instead\n",
      "  warnings.warn(\"FP16 is not supported on CPU; using FP32 instead\")\n"
     ]
    },
    {
     "name": "stdout",
     "output_type": "stream",
     "text": [
      "Transcribed text:  NPO Radio 1 podcast. The day. But how do we always get there after death? Why do we always come after death? We should be before death. That is the pastor who won ten bodies in the South-Ethelian church of Crotone. The turned migrants were told that their wooden boat was buried on the Middle East Sea. For 8000 euros they would make the crossing. But the rest are wooden planks that drive on waves and bodies that are buried in boxes in the local gym. Ten people are still missing. We don't find one child. He's five years old and we're looking for him. The migrant drama of this weekend has been the biggest shipwreck since times in Italy. Three smokers have been picked up. It has already given a walking discussion about boat refugees on New and Impulse. The extreme legal premier Meloni won elections with her promise to stop the rising number of migrants. But does that work? I ask the correspondent in Italy, Helene De Haans. Nice that you listen. My name is Marco Geiterbeek. The day Wednesday, March 1. And today, from Redde to Weren, boat refugees in Italy. A migrant drama on the coast of South Italy. In Nezimathraje, the Italian coast. Ten bodies were taken from the sea and the beach. Most of them are women and children. The youngest are only a few months old. I saw too many things, said a boatman. We had to get the children out of the sea. It was terrible to see how children were being transported, said the mayor of the coast. It was very surprising. The carabinieri was first to be placed there. This man said they saw bloody faces that showed where the shipwrecks were placed. We went to that place and saw the ship in two broken bodies. With bodies stuck under the boat. What we now know is that a ship left in Ismir last Thursday in Turkey, has been in danger for four days over the Mediterranean Sea. The final result is that it was hit in two parts by the coast of Calabria in South Italy. What happened in between is that the sea has become very rough. The ship was hit in the morning before the morning was broken by a helicopter from Frontex, the European border police. The Italian coast guard was exiled there, but the sea was too rough. They couldn't save the ship, so they had to return to the coast to fix the situation. The ship was hit by the radar and the next thing we know is that the inhabitants of a small beach in Calabria saw the beach and noticed that a group of migrants had survived the battle. The coast guard was exiled, but the coast guard was also exiled. The coast guard was exiled, but the coast guard was also exiled. The second largest shipwreck in the Italian recent history. The scenario was... Emotionally, the shipwreck came in and said someone from the fire brigade. Many women and children were injured, but many were injured. Some injured, many were injured. We went into the water to recover the bodies. The people who survived the battle were stuck in the sink. We brought them to the beach. The closer we got to the coastline, the more we realized how many bodies we had to carry on the waves. At this point, the official death is still at 64. But it's hard to say how many dead people have fallen here. A number of bodies have been able to get mountains out of the sea, but because the sea is so rough, a number of bodies have also disappeared in a stream under the sea. The sea is still rough. The bodies may still be polluted, but they may never appear again. In the gulls of the rescue boat, nobody knows exactly how many people were on that ship. So the sad thing is that nobody knows how many victims are on this ship. The ship was left out of Ismir in Turkey. Is that a route that is often used to come to Italy? That is a route that has been in swing for the last few years. The most popular route for migrants to come to Italy was from Libya, from North Africa, because you are relatively fast on Lampedusa, that island under Sicily, where we know a lot of migrants. But the route from Turkey has also become more popular. The smuggler goes in a slightly different way. That is not the way we know the rubber boats from the pictures on the news, but with a slightly larger ship, where more people are on board. 250 people often. The smugglers also go on board to control the ship and to put those migrants on the boat. That is a route that has been in swing for the last two years. And it always comes in Calabria, not in Sicily, but in the Italian ships. For the past few years, they have also arrived at the number of migrants from North Africa, but also from Eastern countries, Afghanistan, Turkey, Pakistan, to take over. I beg for each of them, for the scattered and for the other migrants, survived. The pause was made for the victims of the ship's ramp and the Italian extreme law prime minister Meloni said deeply about the many lives that are ended by the smugglers. Help organisations are determined to re-enter a group of migrants. Italy has been under great migration for years. It is the country where most boats arrive. This year, 14,000 migrants are already standing on the Mediterranean Sea to Italy. Three times as much as last year around this time. Some have to be saved from their scum boat on the sea. Many come around. Since 2014, 26,000 people have been missing on the Mediterranean Sea. Most of them come from North African countries looking for a better life in Europe. Help employees are doing their job, as they say, in a lamp and shower. The biggest ship ramp in Italy was at the island of Lampedusa under Sicily in 2013. The island is the port to Europe for refugees, because it is the shortest crossing from Libya to North Africa. But after 10 years it will be a mistake. Certainly 359 people come to life during their crossing. Many have never been found. Survivors have experienced traumatic things. For five hours, the ship was taken to the island of Lampedusa. For five hours we were floating using the dead bodies of our companions. There is nothing worse than this. There were many children. There was a mother with her four children, a mother with an infant, all lost at sea. Italy was so shocked that the island started a large rescue operation. Mare Nostrum, the Italian navy, put five ships, planes and drones in to save people on the sea. Today, they are carrying a ship with them and the captain spoke. The essential thing about this activity... We want to avoid tragedies, as in the past....like those that have already been verified in the past. Two women in a belt. And this reaction is in great contrast to how Italy is reacting to the ship's attack on the south Italian coast. Everything else is different in politics, in Italy and Europe since 2013. In 2013, that was a very big shock, a very big trauma for Italy. More than 300 dead people. When that idea was also created by the Mediterranean Sea, it was a church. The left government that was there, which is already a big difference, of course, with the left government that was there, decided to put on a very large rescue operation. A really unknown, large operation. Mare Nostrum, our sea. They also have part of the European money, but also a large part of the money from Italy. For a year, a massive search and rescue operation was carried out, which almost took people from the coast of Libya and saved them. And they have been in a year, more than 150,000 people from the Mediterranean Sea. That's a lot. If you compare that with now, the ghosts have naturally matured, people have become more cynical, Italians have also become more cynical, because they have been in the country for a very long time, since most refugees have been caught. In the European Union, Italians have also realized that they are getting less political help from North Europe. And that is one of the reasons why Italy is still in the government to the right, to the point where we are now, an outstanding government with Georgia Meloni. As prime minister, she has really led campaigns to reduce the number of refugees. And she is right about the idea that if you set up such a large search and rescue operation, if you are going to get people out of the sea, that you actually encourage people, to send those people to the sea, because they are still saved. And in that regard, she has recently also started a campaign against NGOs, against help organizations that carry out such rescue missions. She has introduced laws in Italy that make it more difficult for NGOs to do their work, precisely because she wants to discourage that. So a very different political climate has come in 2013. What is the law saying that the work for NGOs is more difficult? So NGOs have a normal work method to go to the sea with relatively large ships, and then search for boats for a number of days in need. So they find one boat, they go to the next boat, they go to the next boat, and when they have saved a number of hundred people, they return to the coast of Italy. What has the government Meloni said now? They have said that you can only carry out one rescue. With that very large ship that you have, for example, you can save one rubber boat of 60, 70 people. And then you have to go back to the coast to Italy to take those people off. That has to happen as efficiently as possible. Above all, the government of Italy is now familiar with the NGOs to go there. And instead of southern Italian ports where those ships can easily go, they are now allowed to go north Italian ports. That means that they have to go two or three days extra before they can take off a smaller group of migrants to the country. That means higher fuel costs, higher food costs, higher operational costs for those NGOs, which in fact will take much less time to deliver in the area where they want to save people between Italy and Libya. Yes, and that leads to angry reactions to those NGOs. They say, yes, this doesn't work at all. People are still living because these agreements cannot influence the fact that people need a really wide range of reasons to lead their country. People who leave a country, leave their country because they have not seen another option. But the government continues to do so. This is just the plan and the departure they are taking. And they say, this is going to work. Yes, that is the look that the Italian government, the Italian law in general, has on NGOs. They see that as a poll factor, so a factor that people, smokers and migrants, are just starting to leave. And in that way, there is a kind of war between the Italian government and the NGOs. What is the problem? The view of the Italian government, the argumentation, that is not right. There is research done on figures of how many migrants are going to leave the country, how many people are leaving. And there is no statistical connection in the course of various years between the presence or absence of NGOs on the sea. So that is a non-connection, but the Italian government remains there, because they have the war with NGOs and because that is one of the few measures that they themselves can take legally to show the population that we are doing something about the number of migrants. The NGOs is a kind of symbol fight, a symbol dossier, which the Italian government takes very hard to give the impression that they are solving a poll. Yes, because the poll is on and actually Meloni cannot do much to solve the poll, so to speak. No, what they do is write that this has to come up on the European agenda. That has been going on for a long time, but it was written in the Westin. And further, there can be a number of small laws for small rules. But what is also relevant to tell is that the NGOs, not only have there been no statistical connection between the smokers and their work, but also save only 10% of the number of migrants that come to Italy in total. So this is really in the course of the big numbers and that does not seem to be very possible with Meloni further. And that is, this dossier is what she is trying to take out. But that is perhaps also where Italy has been in for years, that it is a very complicated dossier to do something about it. It is a very complicated dossier and where Italy is especially very frustrated about these so-called Dublin agreements, where for example the Netherlands keeps very strong, that means that a country is responsible for the reception of asylum seekers who are asking for asylum in that country and are reporting. But good, in Italy all those people come across the sea, more and more, and Italy must therefore catch all those people who are asking for asylum, while for example the Netherlands is still free of that. The Italian Prime Minister Meloni took office in September last year and she is therefore directing her polls in the EU. The number of migrants that the Italian coast is reaching is low, her promise is low and Brussels must help. The chairman of the European Commission Ursula von der Leyen also says that Europe wants to help. She is now working on a migration and asylum pact with agreements on the border and the counter-office of human trafficking. Two weeks ago, she was still underhanded on a European top. But does the Dutch, Italian and all other European states want the same? That will become a complicated discussion in the future. Meloni wants to support Europe in her fight against the NGOs. She wants to say in her own country that Europe is the only country she can support. And Meloni wants to make agreements with the countries where migrants come from and countries where they travel. She herself has organized a tour in North Africa, Libya, Algeria, Tunisia, to talk to the governments and regimes about what we can do to prevent migrants from taking a boat. Italy has already made agreements with the Libyan coast guard. But she wants Europe to throw its diplomatic weight in the fight. A deal with Italy is something different than a deal with the whole EU. And a threat of Italy, for example. To drag visa-free travel or trade advantages into it, if you don't do anything about that migration, is something very different than a threat of Europe. Europe has been the top of migration. She wants the prime minister of Russia here in the Netherlands. Then it was about hacking, walls and drones. Would the EU like Italy? There is a lot of talk about the rules of the rules, and there is also a lot of talk about the next month, about the Mediterranean Sea and the agreements that can be made with countries. The problem is the ambition to make stronger and use diplomatic arguments to make agreements with countries that are coming from abroad. The problem is that the agreements are made. In 2015, that was already discussed. And then it turned out that a lot of individual countries didn't want to do that because they also find it important to have good ties with a number of those countries. To want to have other reasons, to want personal interests of those countries. So the question is whether the ambitions that are on paper now, that are now in very vague terms, or that can lead to something in practice. What does the EU do now to help Italy with the situation on the seas and the migrants that arrive on boats? At the moment, the EU is doing relatively little. Most rescue operations are carried out by the Italian coast guard. On the Mediterranean Sea, Frontex is being implemented. That is the European border police. But what you see is that over the years, the operations of Frontex have changed, they have received different names, and what has essentially happened is that less money has gone to them. And that those missions have become more and more police missions, so more frequent missions, earlier than rescue missions, such as the Operation Marine Ostrom in 2013-2014. So those missions of Europe have become more frequent and less aimed at helping people. That is really a world of difference a few years after the ramp in Lampedusa. When it was time to save and now to return. That is the kind of golden trend now. That is actually ten years ago, and that is in ten years we have seen an evolution of Italy, a very free country, a country that was absolutely ready to save everyone. You also have to say that Italy is a country that has known itself a great migration, that has even history with migration. And that is why the European Union has been looking for a better life, especially in the southern regions where many migrants are coming from. So in the DNA of the Italians and of the Italian look at things, there is a lot of understanding for migrants. But over the past ten years, there have been so many numbers that that understanding has started to be a part of Europe, especially by the great disappointment. Yes, finally, if we are to discuss that, the help is less, the resistance is greater. What can we say about the coming time? What time are we going in for those migrants who are trying to get to Italy on those boats? It is becoming a difficult time, because we already see the numbers rising enormously and then the lent and summer have to start. Season where the traditional sea is calmer and more people leave. There is a lot of unrest in the world, in Iran, in Afghanistan, a lot of people leave. And the measures that the EU is taking, we know from experience that it costs a lot of difficulty, diplomatic difficulty, to really solve those kinds of plans in practice. So it is only strong the question whether enough can happen on the short term to get those numbers down. That is actually very unlikely. And if you look at a ramp, as we have seen in the past weekend, at Calabria, and you know that the numbers will increase in the coming time, but that there is no more surveillance on the Mediterranean Sea, even less so before, then of course that does not offer optimistic images for the future. No, we will keep that in mind. Thank you for your story. You're welcome, Marke. And that was the podcast weather. Tomorrow, the beginning of the afternoon, a new one with Elisabeth. Until then, thank you for listening and have a nice day. Sometimes you stick to things that are bad for you. I hope it's a bit more authentic. I would find it very annoying if I gave this up again. Or that they are just beautiful to let go. I know it for sure, but I don't believe myself anymore after I've known it so often. And even if you want to let go of everything, sometimes you just don't have control over it. The body doesn't give up, the body keeps fighting. This week in Docks, a short course is released. A documentary by Jair Steijn. I feel like I want to let go of things.\n",
      "Summarized text: \n",
      "[[{'summary_text': \"Migrant drama of this weekend has been the biggest shipwreck since times in Italy. Ten bodies were taken from the sea and the beach. Most of them are women and children, the youngest are only a few months old. The official death is still at 64, but it's hard to say how many dead people have fallen here. A number of bodies have been able to get mountains out of the sea, but because the sea is so rough, a number have also disappeared in a stream under the sea.\"}], [{'summary_text': \"Since 2014, 26,000 people have been missing on the Mediterranean Sea. Most of them come from North African countries looking for a better life in Europe. Help employees are doing their job, as they say, in a lamp and shower. Italy is still in the government to the right, to the point where we are now, an outstanding government with Georgia Meloni, prime minister of the extreme law party. The pause was made for the victims of the ship's ramp and the Italian extreme law prime minister Meloni said deeply about the many lives that are ended by the smugglers.\"}], [{'summary_text': 'Italian Prime Minister has introduced laws that make it more difficult for NGOs to do their work. They see that as a poll factor, so a factor that people, smokers and migrants, are just starting to leave. The NGOs is a kind of symbol fight, a symbol dossier, which the Italian government takes very hard to give the impression that they are solving a poll. But that is perhaps also where Italy has been in for years, that it is a very complicated dossier to do something about it.'}], [{'summary_text': 'Meloni wants to support Europe in her fight against the NGOs. She wants to say in her own country that Europe is the only country she can support. She is now working on a migration and asylum pact with agreements on the border and the counter-office of human trafficking. She herself has organized a tour in North Africa, Libya, Algeria, Tunisia, to talk to the governments and regimes about what we can do to prevent migrants from taking a boat. But does the Dutch, Italian and all other European states want the same? That will become a complicated discussion in the future.'}], [{'summary_text': \"I would find it very annoying if I gave this up again. And even if you want to let go of everything, sometimes you just don't have control over it. The body doesn't give up, the body keeps fighting. This week in Docks, a short course is released. A documentary by Jair Steijn. A new one with Elisabeth tomorrow, the beginning of the afternoon.Until then, thank you for listening and have a nice day. Marke.Thank you for your story.\"}]]\n"
     ]
    }
   ],
   "source": [
    "import whisper\n",
    "from transformers import pipeline\n",
    "from nltk import tokenize\n",
    "from tokenizers import Tokenizer\n",
    "tokenizer = Tokenizer.from_pretrained(\"facebook/bart-large-cnn\")\n",
    "\n",
    "model = whisper.load_model(\"small\")\n",
    "result = model.transcribe(\"/users/rikjansen/downloads/NRCVandaag.mp3\", task=\"translate\")\n",
    "print(\"Transcribed text: \" + result[\"text\"])\n",
    "\n",
    "#split text into sentences\n",
    "text = tokenize.sent_tokenize(result[\"text\"])\n",
    "\n",
    "coll = []\n",
    "chunk = \"\"\n",
    "wordCount = 0\n",
    "#the maximum number of tokens the summarization model will accept at once\n",
    "n = 1024\n",
    "\n",
    "#create chunks of sentences to be summarized, each chunk not exceeding n tokens\n",
    "#needs an exception in case a single sentence exceeds n (however unlikely)\n",
    "for sent in text:\n",
    "    wordCount += len(tokenizer.encode(sent))\n",
    "    if wordCount <= n:\n",
    "        chunk += sent\n",
    "    else:\n",
    "        coll.append(chunk)\n",
    "        chunk = sent\n",
    "        wordCount = 0\n",
    "coll.append(chunk)\n",
    "\n",
    "summarizer = pipeline(\"summarization\", model=\"facebook/bart-large-cnn\")\n",
    "summary = []\n",
    "\n",
    "#summarize each chunk individually and add them together\n",
    "for val in coll:\n",
    "    numTokens = len(tokenizer.encode(val))\n",
    "    maxLength = min(500, numTokens)\n",
    "    minLength = min(100, numTokens)\n",
    "    summary.append(summarizer(val, max_length=maxLength, min_length=minLength, do_sample=False))\n",
    "            \n",
    "print(\"Summarized text: \")\n",
    "print(summary)\n"
   ]
  },
  {
   "cell_type": "code",
   "execution_count": 7,
   "metadata": {},
   "outputs": [
    {
     "name": "stdout",
     "output_type": "stream",
     "text": [
      "[[{'summary_text': 'Dr. Martin Luther King: \"America has defaulted on this promise or a note in so far as her citizens of color or concern\" \"We refuse to believe that the Bank of Justice is bankrupt\" \"This sweltering summer of the Negroes legitimate discontent will not pass until that is an invigorating, autumn of freedom and equality\" \"Now is the time to rise from the dark and desolate valley of segregation to the sunlit path of racial justice\" \"If I\\'m realized that freedom is in a strictly planned plumber, we cannot walk alone\"'}], [{'summary_text': \"I have a dream that one day this nation will rise up and live out the true meaning of its creed. We hold these truths to be self evident that all men are created equal. With this faith, we will be able to transform the dangling discords of our nation into a beautiful symphony of brotherhood. This will be the day, when all of God's children will be can to sing with new meaning, my country tears of thee.Sweet land of liberty of thee I sing.Land where my father's died, land of the pilgrim's pride.\"}]]\n"
     ]
    }
   ],
   "source": [
    "from nltk import tokenize\n",
    "from tokenizers import Tokenizer\n",
    "tokenizer = Tokenizer.from_pretrained(\"facebook/bart-large-cnn\")\n",
    "from transformers import pipeline\n",
    "\n",
    "text = \"I have the pleasure to present to you Dr. Martin Luther King. Yeah! I am happy to join with you today in what will go down in history as the greatest demonstration for freedom in the history of our nation. Five score years ago, a great American in whose symbolic shadow we stand today, signed the Emancipation Proclamation. This momentous decree came as a great beacon light of hope to millions of Negro slaves who had been seared in the flames of withering injustice. It came as a joyous daybreak to end the long night of their captivity. But one hundred years later, the Negro still is not free. One hundred years later, the life of the Negro is still sadly crippled by the manacles of segregation and the chains of discrimination one hundred years later. The Negro lives on a lonely island of poverty in the midst of a vast ocean of material prosperity one hundred years later. The Negro is still languished in the corners of American society and finds himself an exile in his own land. So we've come here today to dramatize a shameful condition. In a sense we've come to our nation's capital to cash a check. In the architects of our republic, wrote the magnificent words of the Constitution and the Declaration of Independence. They were signing a promise or a note to whichever American was to fall out. This note was a promise at all men. Yes, black men as well as white men. To be guaranteed the unalienable rights of life, liberty and the pursuit of happiness. It is obvious today that America has defaulted on this promise or a note in so far as her citizens of color or concern. Instead of honoring this sacred obligation, America has given the Negro people a bad check. A check which has come back, Mark Insufficient Fund. But we refuse to believe that the Bank of Justice is bankrupt. We refuse to believe that I insufficient funds and the great bolts of opportunity of this nation. So we've come to cash this check. A check that will give us a pun demand, the riches of freedom and the security of justice. We have also come to this hell of spot to remind America of the fierce urgency of now. This is no time to engage in the luxury of cooling off or to take the tranquilizing drug of gradualism. Now is the time to make real the promises of democracy. Now is the time to rise from the dark and desolate valley of segregation to the sunlit path of racial justice. Now is the time. To lift our nation from the quick sense of racial injustice to the solid rock of brotherhood. Now is the time. It may have just a reality for all of God's children. It would be fatal for the nation to overlook the urgency of the moment. This sweltering summer of the Negroes legitimate discontent will not pass. Until that is an invigorating, autumn of freedom and equality. 1963 is not an end, but a beginning. Those who hope that the Negro needed to blow off steam and will now be content will have a root awakening if the nation returns to business as usual. Now will be neither rest nor tranquillity in America until the Negroes granted his citizenship rights. The whirlwinds of revolt will continue to shake the foundations of our nation until the bright day of justice emerges, but that is something that I must say to my people who stand on the wrong threshold which leads into the palace of justice. In the process of gaining our rightful place, we must not be guilty of wrongful deeds. Let us not seek the satisfy thirst for freedom by drinking from the cup of fiddles and hints. We must fail when the last struggle on the high trading of indigenous indiscence. We must not allow our creative protest to degenerate into physical violence. We must rise to the majestic heights of meeting physical force for soul force. The marvelous new militancy which has endowed the Negro community must not lead us to lay this trust of all white people. We may allow white folks as evidenced by their presence here today. If I'm realized that freedom is in a strictly planned plumber, we cannot walk alone. As we walk, we must make the pledge that we shall always march ahead. We cannot turn back. Now those who are asking the devotees of civil rights, when will you be satisfied? We can never be satisfied as long as the Negro is a great fit for all the young, spiritual horrors of police brutality. As long as our body is hidden within the legal travel, we cannot be enlarging in the motel to the highways and the hotels within the city. We cannot be satisfied as long as the Negro in Mississippi cannot vote. And the Negro in New York believes he has nothing for which to vote. No, no, we are not satisfied and we will not be satisfied until just as rolls down like waters and righteousness like a mighty street. I am not unmindful that some of you have come here out of great trials and tribulations. Some of you have come fresh from now a jail sale. Some of you have come from areas where you are pressed quest for freedom. Left you battered by the storms of persecution and staggered by the winds of police brutality. You have been the veterans of creative suffering. Continue to work with the faith that online suffering is redemptive. Go back to Mississippi. Go back to Alabama. Go back to South Carolina. Go back to Georgia. Go back to Louisiana. Go back to the slums and get holes in our northern cities. Knowing that somehow this situation can and will be changed. Let us not wallow in the valley of despair. I say to you today, my friends. So even though we face the difficulties of today and tomorrow, I still have a dream. It is a dream deeply rooted in the American dream. I have a dream that one day this nation will rise up and live out the true meaning of its creed. We hold these truths to be self evident that all men are created equal. I have a dream that one day on the Red Hills of Georgia, the sons of former slaves and the sons of former slave owners, will be able to sit down together at the table of brotherhood. I have a dream that one day even the state of Mississippi are state sweltering with the heat of injustice, sweltering with the heat of oppression and be transformed into an oasis of freedom and justice. I have a dream that my four little children will one day live in a nation where they will not be judged by the color of their skin but by the content of their character. I have a dream to be. I have a dream that one day down in Alabama with its vicious racists, with its governor having his lips tripping with the words of interposition and nullification. One day right there in Alabama, little black boys and black girls will be able to join hands with little white boys and white girls as sisters and brothers. I have a dream today. I have a dream that one day every valor shall be exalted. Every hill in mounting shall be made low, the rough places will be made plain and the crooked places will be made straight and the go of the Lord shall be revealed and all flesh shall see it together. This is the faith that I go back to the south with, with this faith. We will be able to hue out of the mountain of despair, a stone of hope. With this faith, we will be able to transform the dangling discords of our nation into a beautiful symphony of brotherhood. With this faith, we will be able to work together, to pray together, to struggle together, to go to jail together, to stand up for freedom together, knowing that we will be free one day. This will be the day, this will be the day when all of God's children will be able to sing with new meaning, my country tears of thee. Sweet land of liberty of thee I sing. Land where my father's died, land of the pilgrim's pride. From every mountain side, let freedom ring in the Americas to be a great nation. This must become true. So let freedom ring from the prodigious hill tops of New Hampshire, let freedom ring from the mighty mountains of New York, let freedom ring from the heightening alligators of Pennsylvania, let freedom ring from the snow cap Rock is of Colorado, let freedom ring from the crevace of swaps of California. But not only that, let freedom ring from stone mountain of Georgia, let freedom ring from look out mountain of Tennessee, let freedom ring from every hill and whole hill of Mississippi, from every mountain side, let freedom ring and when this happens, when we allow freedom ring, when we let it ring from every village and every hamlet, from every state and every city, we will be able to speed up that day when all of God's children, black men and white men, Jews and Gentiles, Protestants and Catholics, will be able to join hands and sing in the words of the old Negro spiritual. So, free at last, free at last, take God Almighty, we are free at last.\"\n",
    "\n",
    "\n",
    "#split text into sentences\n",
    "text = tokenize.sent_tokenize(text)\n",
    "\n",
    "coll = []\n",
    "chunk = \"\"\n",
    "wordCount = 0\n",
    "n = 1024\n",
    "\n",
    "#create chunks of sentences to be summarized, each chunk not exceeding n tokens\n",
    "#needs an exception in case a single sentence exceeds n (however unlikely)\n",
    "for sent in text:\n",
    "    wordCount += len(tokenizer.encode(sent))\n",
    "    if wordCount <= n:\n",
    "        chunk += sent\n",
    "    else:\n",
    "        coll.append(chunk)\n",
    "        chunk = sent\n",
    "        wordCount = 0\n",
    "coll.append(chunk)\n",
    "\n",
    "summarizer = pipeline(\"summarization\", model=\"facebook/bart-large-cnn\")\n",
    "summary = []\n",
    "\n",
    "for val in coll:\n",
    "    summary.append(summarizer(val, max_length=500, min_length=100, do_sample=False))\n",
    "            \n",
    "print(summary)"
   ]
  },
  {
   "cell_type": "code",
   "execution_count": 6,
   "metadata": {},
   "outputs": [
    {
     "name": "stdout",
     "output_type": "stream",
     "text": [
      "2\n",
      "I have the pleasure to present to you Dr. Martin Luther King.Yeah!I am happy to join with you today in what will go down in history as the greatest demonstration for freedom in the history of our nation.Five score years ago, a great American in whose symbolic shadow we stand today, signed the Emancipation Proclamation.This momentous decree came as a great beacon light of hope to millions of Negro slaves who had been seared in the flames of withering injustice.It came as a joyous daybreak to end the long night of their captivity.But one hundred years later, the Negro still is not free.One hundred years later, the life of the Negro is still sadly crippled by the manacles of segregation and the chains of discrimination one hundred years later.The Negro lives on a lonely island of poverty in the midst of a vast ocean of material prosperity one hundred years later.The Negro is still languished in the corners of American society and finds himself an exile in his own land.So we've come here today to dramatize a shameful condition.In a sense we've come to our nation's capital to cash a check.In the architects of our republic, wrote the magnificent words of the Constitution and the Declaration of Independence.They were signing a promise or a note to whichever American was to fall out.This note was a promise at all men.Yes, black men as well as white men.To be guaranteed the unalienable rights of life, liberty and the pursuit of happiness.It is obvious today that America has defaulted on this promise or a note in so far as her citizens of color or concern.Instead of honoring this sacred obligation, America has given the Negro people a bad check.A check which has come back, Mark Insufficient Fund.But we refuse to believe that the Bank of Justice is bankrupt.We refuse to believe that I insufficient funds and the great bolts of opportunity of this nation.So we've come to cash this check.A check that will give us a pun demand, the riches of freedom and the security of justice.We have also come to this hell of spot to remind America of the fierce urgency of now.This is no time to engage in the luxury of cooling off or to take the tranquilizing drug of gradualism.Now is the time to make real the promises of democracy.Now is the time to rise from the dark and desolate valley of segregation to the sunlit path of racial justice.Now is the time.To lift our nation from the quick sense of racial injustice to the solid rock of brotherhood.Now is the time.It may have just a reality for all of God's children.It would be fatal for the nation to overlook the urgency of the moment.This sweltering summer of the Negroes legitimate discontent will not pass.Until that is an invigorating, autumn of freedom and equality.1963 is not an end, but a beginning.Those who hope that the Negro needed to blow off steam and will now be content will have a root awakening if the nation returns to business as usual.Now will be neither rest nor tranquillity in America until the Negroes granted his citizenship rights.The whirlwinds of revolt will continue to shake the foundations of our nation until the bright day of justice emerges, but that is something that I must say to my people who stand on the wrong threshold which leads into the palace of justice.In the process of gaining our rightful place, we must not be guilty of wrongful deeds.Let us not seek the satisfy thirst for freedom by drinking from the cup of fiddles and hints.We must fail when the last struggle on the high trading of indigenous indiscence.We must not allow our creative protest to degenerate into physical violence.We must rise to the majestic heights of meeting physical force for soul force.The marvelous new militancy which has endowed the Negro community must not lead us to lay this trust of all white people.We may allow white folks as evidenced by their presence here today.If I'm realized that freedom is in a strictly planned plumber, we cannot walk alone.As we walk, we must make the pledge that we shall always march ahead.We cannot turn back.Now those who are asking the devotees of civil rights, when will you be satisfied?We can never be satisfied as long as the Negro is a great fit for all the young, spiritual horrors of police brutality.\n",
      "As long as our body is hidden within the legal travel, we cannot be enlarging in the motel to the highways and the hotels within the city.We cannot be satisfied as long as the Negro in Mississippi cannot vote.And the Negro in New York believes he has nothing for which to vote.No, no, we are not satisfied and we will not be satisfied until just as rolls down like waters and righteousness like a mighty street.I am not unmindful that some of you have come here out of great trials and tribulations.Some of you have come fresh from now a jail sale.Some of you have come from areas where you are pressed quest for freedom.Left you battered by the storms of persecution and staggered by the winds of police brutality.You have been the veterans of creative suffering.Continue to work with the faith that online suffering is redemptive.Go back to Mississippi.Go back to Alabama.Go back to South Carolina.Go back to Georgia.Go back to Louisiana.Go back to the slums and get holes in our northern cities.Knowing that somehow this situation can and will be changed.Let us not wallow in the valley of despair.I say to you today, my friends.So even though we face the difficulties of today and tomorrow, I still have a dream.It is a dream deeply rooted in the American dream.I have a dream that one day this nation will rise up and live out the true meaning of its creed.We hold these truths to be self evident that all men are created equal.I have a dream that one day on the Red Hills of Georgia, the sons of former slaves and the sons of former slave owners, will be able to sit down together at the table of brotherhood.I have a dream that one day even the state of Mississippi are state sweltering with the heat of injustice, sweltering with the heat of oppression and be transformed into an oasis of freedom and justice.I have a dream that my four little children will one day live in a nation where they will not be judged by the color of their skin but by the content of their character.I have a dream to be.I have a dream that one day down in Alabama with its vicious racists, with its governor having his lips tripping with the words of interposition and nullification.One day right there in Alabama, little black boys and black girls will be able to join hands with little white boys and white girls as sisters and brothers.I have a dream today.I have a dream that one day every valor shall be exalted.Every hill in mounting shall be made low, the rough places will be made plain and the crooked places will be made straight and the go of the Lord shall be revealed and all flesh shall see it together.This is the faith that I go back to the south with, with this faith.We will be able to hue out of the mountain of despair, a stone of hope.With this faith, we will be able to transform the dangling discords of our nation into a beautiful symphony of brotherhood.With this faith, we will be able to work together, to pray together, to struggle together, to go to jail together, to stand up for freedom together, knowing that we will be free one day.This will be the day, this will be the day when all of God's children will be able to sing with new meaning, my country tears of thee.Sweet land of liberty of thee I sing.Land where my father's died, land of the pilgrim's pride.From every mountain side, let freedom ring in the Americas to be a great nation.This must become true.So let freedom ring from the prodigious hill tops of New Hampshire, let freedom ring from the mighty mountains of New York, let freedom ring from the heightening alligators of Pennsylvania, let freedom ring from the snow cap Rock is of Colorado, let freedom ring from the crevace of swaps of California.But not only that, let freedom ring from stone mountain of Georgia, let freedom ring from look out mountain of Tennessee, let freedom ring from every hill and whole hill of Mississippi, from every mountain side, let freedom ring and when this happens, when we allow freedom ring, when we let it ring from every village and every hamlet, from every state and every city, we will be able to speed up that day when all of God's children, black men and white men, Jews and Gentiles, Protestants and Catholics, will be able to join hands and sing in the words of the old Negro spiritual.So, free at last, free at last, take God Almighty, we are free at last.\n"
     ]
    }
   ],
   "source": [
    "from nltk import sent_tokenize\n",
    "from tokenizers import Tokenizer\n",
    "\n",
    "tokenizer = Tokenizer.from_pretrained(\"facebook/bart-large-cnn\")\n",
    "\n",
    "text = \"I have the pleasure to present to you Dr. Martin Luther King. Yeah! I am happy to join with you today in what will go down in history as the greatest demonstration for freedom in the history of our nation. Five score years ago, a great American in whose symbolic shadow we stand today, signed the Emancipation Proclamation. This momentous decree came as a great beacon light of hope to millions of Negro slaves who had been seared in the flames of withering injustice. It came as a joyous daybreak to end the long night of their captivity. But one hundred years later, the Negro still is not free. One hundred years later, the life of the Negro is still sadly crippled by the manacles of segregation and the chains of discrimination one hundred years later. The Negro lives on a lonely island of poverty in the midst of a vast ocean of material prosperity one hundred years later. The Negro is still languished in the corners of American society and finds himself an exile in his own land. So we've come here today to dramatize a shameful condition. In a sense we've come to our nation's capital to cash a check. In the architects of our republic, wrote the magnificent words of the Constitution and the Declaration of Independence. They were signing a promise or a note to whichever American was to fall out. This note was a promise at all men. Yes, black men as well as white men. To be guaranteed the unalienable rights of life, liberty and the pursuit of happiness. It is obvious today that America has defaulted on this promise or a note in so far as her citizens of color or concern. Instead of honoring this sacred obligation, America has given the Negro people a bad check. A check which has come back, Mark Insufficient Fund. But we refuse to believe that the Bank of Justice is bankrupt. We refuse to believe that I insufficient funds and the great bolts of opportunity of this nation. So we've come to cash this check. A check that will give us a pun demand, the riches of freedom and the security of justice. We have also come to this hell of spot to remind America of the fierce urgency of now. This is no time to engage in the luxury of cooling off or to take the tranquilizing drug of gradualism. Now is the time to make real the promises of democracy. Now is the time to rise from the dark and desolate valley of segregation to the sunlit path of racial justice. Now is the time. To lift our nation from the quick sense of racial injustice to the solid rock of brotherhood. Now is the time. It may have just a reality for all of God's children. It would be fatal for the nation to overlook the urgency of the moment. This sweltering summer of the Negroes legitimate discontent will not pass. Until that is an invigorating, autumn of freedom and equality. 1963 is not an end, but a beginning. Those who hope that the Negro needed to blow off steam and will now be content will have a root awakening if the nation returns to business as usual. Now will be neither rest nor tranquillity in America until the Negroes granted his citizenship rights. The whirlwinds of revolt will continue to shake the foundations of our nation until the bright day of justice emerges, but that is something that I must say to my people who stand on the wrong threshold which leads into the palace of justice. In the process of gaining our rightful place, we must not be guilty of wrongful deeds. Let us not seek the satisfy thirst for freedom by drinking from the cup of fiddles and hints. We must fail when the last struggle on the high trading of indigenous indiscence. We must not allow our creative protest to degenerate into physical violence. We must rise to the majestic heights of meeting physical force for soul force. The marvelous new militancy which has endowed the Negro community must not lead us to lay this trust of all white people. We may allow white folks as evidenced by their presence here today. If I'm realized that freedom is in a strictly planned plumber, we cannot walk alone. As we walk, we must make the pledge that we shall always march ahead. We cannot turn back. Now those who are asking the devotees of civil rights, when will you be satisfied? We can never be satisfied as long as the Negro is a great fit for all the young, spiritual horrors of police brutality. As long as our body is hidden within the legal travel, we cannot be enlarging in the motel to the highways and the hotels within the city. We cannot be satisfied as long as the Negro in Mississippi cannot vote. And the Negro in New York believes he has nothing for which to vote. No, no, we are not satisfied and we will not be satisfied until just as rolls down like waters and righteousness like a mighty street. I am not unmindful that some of you have come here out of great trials and tribulations. Some of you have come fresh from now a jail sale. Some of you have come from areas where you are pressed quest for freedom. Left you battered by the storms of persecution and staggered by the winds of police brutality. You have been the veterans of creative suffering. Continue to work with the faith that online suffering is redemptive. Go back to Mississippi. Go back to Alabama. Go back to South Carolina. Go back to Georgia. Go back to Louisiana. Go back to the slums and get holes in our northern cities. Knowing that somehow this situation can and will be changed. Let us not wallow in the valley of despair. I say to you today, my friends. So even though we face the difficulties of today and tomorrow, I still have a dream. It is a dream deeply rooted in the American dream. I have a dream that one day this nation will rise up and live out the true meaning of its creed. We hold these truths to be self evident that all men are created equal. I have a dream that one day on the Red Hills of Georgia, the sons of former slaves and the sons of former slave owners, will be able to sit down together at the table of brotherhood. I have a dream that one day even the state of Mississippi are state sweltering with the heat of injustice, sweltering with the heat of oppression and be transformed into an oasis of freedom and justice. I have a dream that my four little children will one day live in a nation where they will not be judged by the color of their skin but by the content of their character. I have a dream to be. I have a dream that one day down in Alabama with its vicious racists, with its governor having his lips tripping with the words of interposition and nullification. One day right there in Alabama, little black boys and black girls will be able to join hands with little white boys and white girls as sisters and brothers. I have a dream today. I have a dream that one day every valor shall be exalted. Every hill in mounting shall be made low, the rough places will be made plain and the crooked places will be made straight and the go of the Lord shall be revealed and all flesh shall see it together. This is the faith that I go back to the south with, with this faith. We will be able to hue out of the mountain of despair, a stone of hope. With this faith, we will be able to transform the dangling discords of our nation into a beautiful symphony of brotherhood. With this faith, we will be able to work together, to pray together, to struggle together, to go to jail together, to stand up for freedom together, knowing that we will be free one day. This will be the day, this will be the day when all of God's children will be able to sing with new meaning, my country tears of thee. Sweet land of liberty of thee I sing. Land where my father's died, land of the pilgrim's pride. From every mountain side, let freedom ring in the Americas to be a great nation. This must become true. So let freedom ring from the prodigious hill tops of New Hampshire, let freedom ring from the mighty mountains of New York, let freedom ring from the heightening alligators of Pennsylvania, let freedom ring from the snow cap Rock is of Colorado, let freedom ring from the crevace of swaps of California. But not only that, let freedom ring from stone mountain of Georgia, let freedom ring from look out mountain of Tennessee, let freedom ring from every hill and whole hill of Mississippi, from every mountain side, let freedom ring and when this happens, when we allow freedom ring, when we let it ring from every village and every hamlet, from every state and every city, we will be able to speed up that day when all of God's children, black men and white men, Jews and Gentiles, Protestants and Catholics, will be able to join hands and sing in the words of the old Negro spiritual. So, free at last, free at last, take God Almighty, we are free at last.\"\n",
    "\n",
    "#split text into sentences\n",
    "text = sent_tokenize(text)\n",
    "\n",
    "coll = []\n",
    "chunk = \"\"\n",
    "wordCount = 0\n",
    "n = 1024\n",
    "\n",
    "#create groups of sentences to be summarized\n",
    "#needs an exception in case a single sentence exceeds n (however unlikely)\n",
    "for sent in text:\n",
    "    wordCount += len(tokenizer.encode(sent))\n",
    "    if wordCount <= n:\n",
    "        chunk += sent\n",
    "    else:\n",
    "        coll.append(chunk)\n",
    "        chunk = sent\n",
    "        wordCount = 0\n",
    "coll.append(chunk)\n",
    "\n",
    "print(len(coll))\n",
    "print(coll[0])\n",
    "print(coll[1])"
   ]
  },
  {
   "cell_type": "code",
   "execution_count": 6,
   "metadata": {},
   "outputs": [
    {
     "name": "stdout",
     "output_type": "stream",
     "text": [
      "100\n"
     ]
    }
   ],
   "source": [
    "from tokenizers import Tokenizer\n",
    "\n",
    "tokenizer = Tokenizer.from_pretrained(\"facebook/bart-large-cnn\")\n",
    "\n",
    "text =  \"\"\" FBI Director Christopher Wray on Tuesday acknowledged that the bureau believes the Covid-19 pandemic was likely the result of a lab accident in Wuhan, China.\n",
    "\n",
    "In his first public comments on the FBI’s investigation into the virus’ origins during an interview with Fox News, Wray said that “the FBI has for quite some time now assessed that the origins of the pandemic are most likely a potential lab incident in Wuhan.”\n",
    "\"\"\"\n",
    "\n",
    "print(len(tokenizer.encode(text)))"
   ]
  }
 ],
 "metadata": {
  "kernelspec": {
   "display_name": "base",
   "language": "python",
   "name": "python3"
  },
  "language_info": {
   "codemirror_mode": {
    "name": "ipython",
    "version": 3
   },
   "file_extension": ".py",
   "mimetype": "text/x-python",
   "name": "python",
   "nbconvert_exporter": "python",
   "pygments_lexer": "ipython3",
   "version": "3.10.9"
  },
  "orig_nbformat": 4,
  "vscode": {
   "interpreter": {
    "hash": "dae3ba6e1ded9a9171a47064b62b560c92e265397ab1411b730e195aaba0a2ce"
   }
  }
 },
 "nbformat": 4,
 "nbformat_minor": 2
}
